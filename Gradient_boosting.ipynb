{
 "cells": [
  {
   "cell_type": "code",
   "execution_count": 3,
   "id": "2f6d2d77",
   "metadata": {},
   "outputs": [],
   "source": [
    "import pandas as pd"
   ]
  },
  {
   "cell_type": "code",
   "execution_count": 4,
   "id": "70aa01c7",
   "metadata": {},
   "outputs": [],
   "source": [
    "df = pd.read_csv('C:/Dataset/disease_diagnosis.csv')"
   ]
  },
  {
   "cell_type": "code",
   "execution_count": 5,
   "id": "e0fb77ee",
   "metadata": {},
   "outputs": [
    {
     "name": "stdout",
     "output_type": "stream",
     "text": [
      "First 5 rows of the Dataset: \n"
     ]
    },
    {
     "data": {
      "text/plain": [
       "<bound method NDFrame.head of       Patient_ID  Age  Gender            Symptom_1    Symptom_2  \\\n",
       "0              1   74    Male              Fatigue  Sore throat   \n",
       "1              2   66  Female          Sore throat      Fatigue   \n",
       "2              3   32    Male            Body ache  Sore throat   \n",
       "3              4   21  Female  Shortness of breath     Headache   \n",
       "4              5   53    Male           Runny nose  Sore throat   \n",
       "...          ...  ...     ...                  ...          ...   \n",
       "1995        1996   23  Female          Sore throat   Runny nose   \n",
       "1996        1997   75    Male              Fatigue        Cough   \n",
       "1997        1998   79    Male              Fatigue   Runny nose   \n",
       "1998        1999   56  Female                Cough  Sore throat   \n",
       "1999        2000   45  Female              Fatigue    Body ache   \n",
       "\n",
       "                Symptom_3  Heart_Rate_bpm  Body_Temperature_C  \\\n",
       "0                   Fever              69                39.4   \n",
       "1                   Cough              95                39.0   \n",
       "2                 Fatigue              77                36.8   \n",
       "3                   Cough              72                38.9   \n",
       "4                 Fatigue             100                36.6   \n",
       "...                   ...             ...                 ...   \n",
       "1995  Shortness of breath              96                38.2   \n",
       "1996          Sore throat              68                36.1   \n",
       "1997                Fever              73                36.7   \n",
       "1998             Headache              67                39.1   \n",
       "1999                Fever             111                35.8   \n",
       "\n",
       "     Blood_Pressure_mmHg  Oxygen_Saturation_%   Diagnosis  Severity  \\\n",
       "0                 132/91                   94         Flu  Moderate   \n",
       "1                 174/98                   98     Healthy      Mild   \n",
       "2                 136/60                   96     Healthy      Mild   \n",
       "3                 147/82                   99     Healthy      Mild   \n",
       "4                109/106                   92     Healthy      Mild   \n",
       "...                  ...                  ...         ...       ...   \n",
       "1995             116/113                   98     Healthy      Mild   \n",
       "1996             166/113                   97        Cold      Mild   \n",
       "1997              91/103                   95     Healthy      Mild   \n",
       "1998              128/73                   91  Bronchitis    Severe   \n",
       "1999              127/78                   94     Healthy      Mild   \n",
       "\n",
       "                      Treatment_Plan  \n",
       "0                Medication and rest  \n",
       "1                    Rest and fluids  \n",
       "2                    Rest and fluids  \n",
       "3                    Rest and fluids  \n",
       "4                    Rest and fluids  \n",
       "...                              ...  \n",
       "1995                 Rest and fluids  \n",
       "1996                 Rest and fluids  \n",
       "1997                 Rest and fluids  \n",
       "1998  Hospitalization and medication  \n",
       "1999                 Rest and fluids  \n",
       "\n",
       "[2000 rows x 13 columns]>"
      ]
     },
     "metadata": {},
     "output_type": "display_data"
    }
   ],
   "source": [
    "print(\"First 5 rows of the Dataset: \")\n",
    "display(df.head)"
   ]
  },
  {
   "cell_type": "code",
   "execution_count": 8,
   "id": "971858a6",
   "metadata": {},
   "outputs": [
    {
     "name": "stdout",
     "output_type": "stream",
     "text": [
      "\n",
      "DataFrame Information:\n",
      "<class 'pandas.core.frame.DataFrame'>\n",
      "RangeIndex: 2000 entries, 0 to 1999\n",
      "Data columns (total 13 columns):\n",
      " #   Column               Non-Null Count  Dtype  \n",
      "---  ------               --------------  -----  \n",
      " 0   Patient_ID           2000 non-null   int64  \n",
      " 1   Age                  2000 non-null   int64  \n",
      " 2   Gender               2000 non-null   object \n",
      " 3   Symptom_1            2000 non-null   object \n",
      " 4   Symptom_2            2000 non-null   object \n",
      " 5   Symptom_3            2000 non-null   object \n",
      " 6   Heart_Rate_bpm       2000 non-null   int64  \n",
      " 7   Body_Temperature_C   2000 non-null   float64\n",
      " 8   Blood_Pressure_mmHg  2000 non-null   object \n",
      " 9   Oxygen_Saturation_%  2000 non-null   int64  \n",
      " 10  Diagnosis            2000 non-null   object \n",
      " 11  Severity             2000 non-null   object \n",
      " 12  Treatment_Plan       2000 non-null   object \n",
      "dtypes: float64(1), int64(4), object(8)\n",
      "memory usage: 203.3+ KB\n"
     ]
    },
    {
     "data": {
      "text/plain": [
       "None"
      ]
     },
     "metadata": {},
     "output_type": "display_data"
    }
   ],
   "source": [
    "print(\"\\nDataFrame Information:\")\n",
    "display(df.info())"
   ]
  },
  {
   "cell_type": "code",
   "execution_count": 10,
   "id": "cb0b488f",
   "metadata": {},
   "outputs": [],
   "source": [
    "import numpy as np\n",
    "from sklearn.model_selection import train_test_split\n",
    "from sklearn.preprocessing import OneHotEncoder\n",
    "from sklearn.compose import ColumnTransformer\n",
    "from sklearn.pipeline import Pipeline"
   ]
  },
  {
   "cell_type": "code",
   "execution_count": 11,
   "id": "17e4b52e",
   "metadata": {},
   "outputs": [
    {
     "name": "stdout",
     "output_type": "stream",
     "text": [
      "Checking for missing values:\n",
      "Patient_ID             0\n",
      "Age                    0\n",
      "Gender                 0\n",
      "Symptom_1              0\n",
      "Symptom_2              0\n",
      "Symptom_3              0\n",
      "Heart_Rate_bpm         0\n",
      "Body_Temperature_C     0\n",
      "Blood_Pressure_mmHg    0\n",
      "Oxygen_Saturation_%    0\n",
      "Diagnosis              0\n",
      "Severity               0\n",
      "Treatment_Plan         0\n",
      "dtype: int64\n"
     ]
    }
   ],
   "source": [
    "print(\"Checking for missing values:\")\n",
    "print(df.isnull().sum())"
   ]
  },
  {
   "cell_type": "code",
   "execution_count": 16,
   "id": "72ae497c",
   "metadata": {},
   "outputs": [
    {
     "name": "stdout",
     "output_type": "stream",
     "text": [
      "\n",
      "Identified categorical features (excluding target): ['Gender', 'Symptom_1', 'Symptom_2', 'Symptom_3', 'Blood_Pressure_mmHg', 'Severity', 'Treatment_Plan']\n"
     ]
    }
   ],
   "source": [
    "# 2. Identify categorical features\n",
    "categorical_features = df.select_dtypes(include=['object']).columns.tolist()\n",
    "# Exclude the target variable 'Diagnosis' from categorical features for encoding\n",
    "if 'Diagnosis' in categorical_features:\n",
    "    categorical_features.remove('Diagnosis')\n",
    "print(f\"\\nIdentified categorical features (excluding target): {categorical_features}\")"
   ]
  },
  {
   "cell_type": "code",
   "execution_count": null,
   "id": "4ee81792",
   "metadata": {},
   "outputs": [],
   "source": []
  }
 ],
 "metadata": {
  "kernelspec": {
   "display_name": "base",
   "language": "python",
   "name": "python3"
  },
  "language_info": {
   "codemirror_mode": {
    "name": "ipython",
    "version": 3
   },
   "file_extension": ".py",
   "mimetype": "text/x-python",
   "name": "python",
   "nbconvert_exporter": "python",
   "pygments_lexer": "ipython3",
   "version": "3.12.7"
  }
 },
 "nbformat": 4,
 "nbformat_minor": 5
}
